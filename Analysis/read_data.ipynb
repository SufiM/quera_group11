{
 "cells": [
  {
   "cell_type": "code",
   "execution_count": 61,
   "metadata": {
    "collapsed": true
   },
   "outputs": [
    {
     "name": "stderr",
     "output_type": "stream",
     "text": [
      "/tmp/ipykernel_34657/39248693.py:27: MovedIn20Warning: The ``declarative_base()`` function is now available as sqlalchemy.orm.declarative_base(). (deprecated since: 2.0) (Background on SQLAlchemy 2.0 at: https://sqlalche.me/e/b8d9)\n",
      "  Base = declarative_base()\n"
     ]
    }
   ],
   "source": [
    "from sqlalchemy import create_engine\n",
    "from sqlalchemy import (\n",
    "    Column,\n",
    "    ForeignKey,\n",
    "    Integer,\n",
    "    DateTime,\n",
    "    Float,\n",
    "    DateTime,\n",
    "    Float,\n",
    "    String,\n",
    "    Text,\n",
    ")\n",
    "from sqlalchemy.orm import relationship\n",
    "from sqlalchemy.orm import sessionmaker\n",
    "import sqlalchemy as db\n",
    "from sqlalchemy.ext.declarative import declarative_base\n",
    "\n",
    "USERNAME = \"ilarima\"\n",
    "PASSWORD = \"Aa_1234567\"\n",
    "SERVER = \"localhost\"\n",
    "\n",
    "# DEFINE THE ENGINE (CONNECTION OBJECT)\n",
    "engine = create_engine(\n",
    "    f\"mysql+pymysql://{USERNAME}:{PASSWORD}@{SERVER}:3306/currencies\", echo=True\n",
    ")\n",
    "\n",
    "Base = declarative_base()"
   ]
  },
  {
   "cell_type": "code",
   "execution_count": 62,
   "metadata": {},
   "outputs": [],
   "source": [
    "class Currency(Base):\n",
    "    __tablename__ = \"currency\"\n",
    "\n",
    "    id = Column(Integer, primary_key=True, unique=True, autoincrement=True)\n",
    "    name = Column(String(255), nullable=True)\n",
    "    symbol = Column(String(255), nullable=True)\n",
    "    rank = Column(Integer, nullable=True)\n",
    "    main_link = Column(Text, nullable=True)\n",
    "    historical_link = Column(Text, nullable=True)\n",
    "    circulating_supply = Column(Float, nullable=True)\n",
    "\n",
    "    # github = relationship(\"Github\", back_populates=\"currency\")  # , uselist=False\n",
    "    historicals = relationship(\"Historical\", back_populates=\"currency\")\n",
    "    languages = relationship(\n",
    "        \"Language\", secondary=\"languages_currency\", back_populates=\"currencies\"\n",
    "    )\n",
    "    tags = relationship(\"Tag\", secondary=\"tags_currency\", back_populates=\"currencies\")\n",
    "\n",
    "    def __repr__(self):\n",
    "        return f\"<Currency(id={self.id}, name='{self.name}', symbol='{self.symbol}')>\""
   ]
  },
  {
   "cell_type": "code",
   "execution_count": 63,
   "metadata": {},
   "outputs": [],
   "source": [
    "class GitHub(Base):\n",
    "    __tablename__ = \"github\"\n",
    "\n",
    "    id = Column(Integer, primary_key=True, unique=True, autoincrement=True)\n",
    "    currency_id = Column(Integer, ForeignKey(\"currency.id\"), nullable=True)\n",
    "    commits_count = Column(Integer, nullable=True)\n",
    "    contributors_count = Column(Integer, nullable=True)\n",
    "    forks_count = Column(Integer, nullable=True)\n",
    "    stars_count = Column(Integer, nullable=True)\n",
    "    github_link = Column(Text, nullable=True)\n",
    "\n",
    "    # Define a foreign key relationship to the 'currency' table\n",
    "    currency = relationship(\"Currency\")\n",
    "\n",
    "    def __repr__(self):\n",
    "        return f\"<GitHub(id={self.id}, currency_id={self.currency_id})>\""
   ]
  },
  {
   "cell_type": "code",
   "execution_count": 64,
   "metadata": {},
   "outputs": [],
   "source": [
    "class Historical(Base):\n",
    "    __tablename__ = \"historical\"\n",
    "\n",
    "    id = Column(Integer, primary_key=True, unique=True, autoincrement=True)\n",
    "    currency_id = Column(Integer, ForeignKey(\"currency.id\"), nullable=True)\n",
    "    timeOpen = Column(DateTime, nullable=True)\n",
    "    timeClose = Column(DateTime, nullable=True)\n",
    "    timeHigh = Column(DateTime, nullable=True)\n",
    "    timeLow = Column(DateTime, nullable=True)\n",
    "    open = Column(Float, nullable=True)\n",
    "    high = Column(Float, nullable=True)\n",
    "    low = Column(Float, nullable=True)\n",
    "    close = Column(Float, nullable=True)\n",
    "    volume = Column(Float, nullable=True)\n",
    "    marketCap = Column(Float, nullable=True)\n",
    "    timestamp = Column(DateTime, nullable=True)\n",
    "\n",
    "    # Define a foreign key relationship to the 'currency' table\n",
    "    currency = relationship(\"Currency\", back_populates=\"historicals\")\n",
    "\n",
    "    def __repr__(self):\n",
    "        return f\"<Historical(id={self.id}, currency_id={self.currency_id}, timestamp={self.timestamp})>\""
   ]
  },
  {
   "cell_type": "code",
   "execution_count": 65,
   "metadata": {},
   "outputs": [],
   "source": [
    "class Language(Base):\n",
    "    __tablename__ = \"languages\"\n",
    "\n",
    "    id = Column(Integer, primary_key=True, unique=True, nullable=False)\n",
    "    name = Column(String(255), nullable=True)\n",
    "\n",
    "    # Define a one-to-many relationship with 'tags_currency' table\n",
    "    currencies = relationship(\n",
    "        \"Currency\", secondary=\"languages_currency\", back_populates=\"languages\"\n",
    "    )\n",
    "\n",
    "    def __repr__(self):\n",
    "        return f\"<Language(id={self.id}, name='{self.name}')>\""
   ]
  },
  {
   "cell_type": "code",
   "execution_count": 66,
   "metadata": {},
   "outputs": [],
   "source": [
    "class LanguageCurrency(Base):\n",
    "    __tablename__ = \"languages_currency\"\n",
    "\n",
    "    id = Column(Integer, primary_key=True, unique=True, autoincrement=True)\n",
    "    currency_id = Column(Integer, ForeignKey(\"currency.id\"), nullable=True)\n",
    "    language_id = Column(Integer, ForeignKey(\"languages.id\"), nullable=True)\n",
    "    percentage = Column(Float, nullable=True)\n",
    "\n",
    "    def __repr__(self):\n",
    "        return f\"<LanguageCurrency(id={self.id},currency_id={self.currency_id}, language_id={self.language_id}, percentage={self.percentage})>\""
   ]
  },
  {
   "cell_type": "code",
   "execution_count": 67,
   "metadata": {},
   "outputs": [],
   "source": [
    "class Tag(Base):\n",
    "    __tablename__ = \"tags\"\n",
    "\n",
    "    id = Column(Integer, primary_key=True, nullable=False)\n",
    "    name = Column(String(255), nullable=True)\n",
    "\n",
    "    # Define a one-to-many relationship with 'tags_currency' table\n",
    "    currencies = relationship(\n",
    "        \"Currency\", secondary=\"tags_currency\", back_populates=\"tags\"\n",
    "    )\n",
    "\n",
    "    def __repr__(self):\n",
    "        return f\"<Tag(id={self.id}, name='{self.name}')>\""
   ]
  },
  {
   "cell_type": "code",
   "execution_count": 68,
   "metadata": {},
   "outputs": [],
   "source": [
    "class TagsCurrency(Base):\n",
    "    __tablename__ = \"tags_currency\"\n",
    "\n",
    "    id = Column(Integer, primary_key=True, autoincrement=True)\n",
    "    currency_id = Column(Integer, ForeignKey(\"currency.id\"), nullable=True)\n",
    "    tag_id = Column(Integer, ForeignKey(\"tags.id\"), nullable=True)\n",
    "\n",
    "    def __repr__(self):\n",
    "        return f\"<TagsCurrency(id={self.id}, currency_id={self.currency_id}, tag_id={self.tag_id})>\""
   ]
  },
  {
   "cell_type": "code",
   "execution_count": 69,
   "metadata": {},
   "outputs": [],
   "source": [
    "import pandas as pd"
   ]
  },
  {
   "cell_type": "code",
   "execution_count": 70,
   "metadata": {},
   "outputs": [
    {
     "name": "stdout",
     "output_type": "stream",
     "text": [
      "2023-09-05 19:35:56,590 INFO sqlalchemy.engine.Engine SELECT DATABASE()\n",
      "2023-09-05 19:35:56,592 INFO sqlalchemy.engine.Engine [raw sql] {}\n",
      "2023-09-05 19:35:56,599 INFO sqlalchemy.engine.Engine SELECT @@sql_mode\n",
      "2023-09-05 19:35:56,603 INFO sqlalchemy.engine.Engine [raw sql] {}\n",
      "2023-09-05 19:35:56,609 INFO sqlalchemy.engine.Engine SELECT @@lower_case_table_names\n",
      "2023-09-05 19:35:56,611 INFO sqlalchemy.engine.Engine [raw sql] {}\n",
      "2023-09-05 19:35:56,617 INFO sqlalchemy.engine.Engine BEGIN (implicit)\n"
     ]
    },
    {
     "name": "stdout",
     "output_type": "stream",
     "text": [
      "2023-09-05 19:35:56,711 INFO sqlalchemy.engine.Engine SELECT historical.currency_id AS historical_currency_id, historical.volume AS historical_volume, historical.`marketCap` AS `historical_marketCap` \n",
      "FROM historical \n",
      "WHERE historical.currency_id = %(currency_id_1)s\n",
      "2023-09-05 19:35:56,713 INFO sqlalchemy.engine.Engine [generated in 0.00187s] {'currency_id_1': 154}\n"
     ]
    }
   ],
   "source": [
    "# CREATE A SESSION OBJECT TO INITIATE QUERY\n",
    "# IN DATABASE\n",
    "Session = sessionmaker(bind=engine)\n",
    "session = Session()\n",
    "\n",
    "\n",
    "# SELECT currency_id, volume, marketCap FROM historical\n",
    "results = (\n",
    "    session.query(Historical.currency_id, Historical.volume, Historical.marketCap)\n",
    "    .where(Historical.currency_id == 154)\n",
    "    .all()\n",
    ")\n",
    "\n",
    "df = pd.DataFrame(\n",
    "    [(r.currency_id, r.volume, r.marketCap) for r in results],\n",
    "    columns=[\"currency_id\", \"volume\", \"marketCap\"],\n",
    ")"
   ]
  },
  {
   "cell_type": "code",
   "execution_count": null,
   "metadata": {},
   "outputs": [
    {
     "name": "stdout",
     "output_type": "stream",
     "text": [
      "2023-09-05 19:35:56,875 INFO sqlalchemy.engine.Engine BEGIN (implicit)\n",
      "2023-09-05 19:35:56,878 INFO sqlalchemy.engine.Engine \n",
      "    SELECT currency_id, volume, marketCap\n",
      "    FROM historical\n",
      "\n",
      "2023-09-05 19:35:56,881 INFO sqlalchemy.engine.Engine [generated in 0.00644s] {}\n"
     ]
    },
    {
     "name": "stdout",
     "output_type": "stream",
     "text": [
      "2023-09-05 19:35:58,971 INFO sqlalchemy.engine.Engine ROLLBACK\n"
     ]
    }
   ],
   "source": [
    "from sqlalchemy import text\n",
    "\n",
    "conn = engine.connect()\n",
    "\n",
    "# Define the SQL query\n",
    "sql_query = text(\n",
    "    \"\"\"\n",
    "    SELECT currency_id, volume, marketCap, timestamp\n",
    "    FROM historical\n",
    "\"\"\"\n",
    ")\n",
    "\n",
    "# Method 2 using sql alchemy\n",
    "\n",
    "# query = (\n",
    "#     session.query(Historical.currency_id, Historical.volume, Historical.marketCap, Historical.timestamp)\n",
    "# )\n",
    "\n",
    "# results = query.all()\n",
    "\n",
    "# Execute the SQL query\n",
    "result = conn.execute(sql_query)\n",
    "\n",
    "# Fetch the results\n",
    "selected_rows = result.fetchall()\n",
    "\n",
    "# Print the selected rows\n",
    "# for row in selected_rows:\n",
    "#     print(row)\n",
    "\n",
    "# Close the database connection when you're done\n",
    "conn.close()\n",
    "\n",
    "df = pd.DataFrame(\n",
    "    [(r.currency_id, r.volume, r.marketCap, r.timestamp) for r in selected_rows],\n",
    "    columns=[\"currency_id\", \"volume\", \"marketCap\",\"timestamp\"],\n",
    ")"
   ]
  },
  {
   "cell_type": "code",
   "execution_count": null,
   "metadata": {},
   "outputs": [],
   "source": [
    "print(df.shape)\n",
    "df.head()"
   ]
  },
  {
   "cell_type": "code",
   "execution_count": null,
   "metadata": {},
   "outputs": [],
   "source": [
    "from sqlalchemy import text\n",
    "\n",
    "conn_2 = engine.connect()\n",
    "\n",
    "# Define the SQL query\n",
    "sql_query_2 = text(\n",
    "    \"\"\"\n",
    "    SELECT id, name, symbol, circulating_supply\n",
    "    FROM currency\n",
    "\"\"\"\n",
    ")\n",
    "\n",
    "# Method 2 using sql alchemy\n",
    "\n",
    "# query = (\n",
    "#     session.query(Currency.id, Currency.name, Currency.symbol, Currency.circulating_supply)\n",
    "# )\n",
    "\n",
    "# results = query.all()\n",
    "\n",
    "# Execute the SQL query\n",
    "result_2 = conn_2.execute(sql_query_2)\n",
    "\n",
    "# Fetch the results\n",
    "selected_rows_2 = result_2.fetchall()\n",
    "\n",
    "#update_historical = output.fetchall()\n",
    "# Print the selected rows\n",
    "# for row in selected_rows:\n",
    "#     print(row)\n",
    "\n",
    "# Close the database connection when you're done\n",
    "conn_2.close()\n",
    "\n",
    "df_2 = pd.DataFrame(\n",
    "    [( r.id, r.name, r.symbol, r.circulating_supply) for r in selected_rows_2],\n",
    "    columns=[ \"id\", \"name\", \"symbol\",\"circulating_supply\"],\n",
    ")"
   ]
  },
  {
   "cell_type": "code",
   "execution_count": null,
   "metadata": {},
   "outputs": [],
   "source": [
    "print(df_2.shape)\n",
    "df_2.head()"
   ]
  },
  {
   "cell_type": "code",
   "execution_count": null,
   "metadata": {},
   "outputs": [],
   "source": [
    "from sqlalchemy import text\n",
    "\n",
    "conn_3 = engine.connect()\n",
    "\n",
    "metadata = db.MetaData()\n",
    "currency = db.Table('currency', metadata, autoload=True, autoload_with=engine)\n",
    "historical = db.Table('historical', metadata, autoload=True, autoload_with=engine)\n",
    "\n",
    "\n",
    "# Define the SQL query\n",
    "sql_query_3 = text(\n",
    "    \"\"\"\n",
    "    SELECT c.name, c.symbol, c.circulating_supply, h.currency_id , h.volume, h.marketCap, h.open, h.close, h.timestamp\n",
    "    FROM currency AS c\n",
    "    JOIN historical AS h ON c.id = h.currency_id;\n",
    "\"\"\"\n",
    ")\n",
    "\n",
    "# Method 2 using sql alchemy\n",
    "\n",
    "# query = (\n",
    "#     session.query(Currency.name, Currency.symbol, Currency.circulating_supply,\n",
    "#                   Historical.currency_id, Historical.volume, Historical.marketCap,\n",
    "#                   Historical.open, Historical.close, Historical.timestamp)\n",
    "#     .join(Historical, Currency.id == Historical.currency_id)\n",
    "# )\n",
    "\n",
    "# results = query.all()\n",
    "\n",
    "# Execute the SQL query\n",
    "result_3 = conn_3.execute(sql_query_3)\n",
    "\n",
    "# Fetch the results\n",
    "selected_rows_3 = result_3.fetchall()\n",
    "\n",
    "# Close the database connection when you're done\n",
    "conn_3.close()\n",
    "\n",
    "df_3 = pd.DataFrame(\n",
    "    [( r.currency_id, r.name, r.symbol, r.circulating_supply, r.volume, r.marketCap, r.open, r.close, r.timestamp) for r in selected_rows_3],\n",
    "    columns=[ \"Currency_id\", \"Name\", \"Symbol\",\"Circulating_Supply\", \"Volume\", \"Marketcap\", \"Open\", \"Close\", \"Date\"],\n",
    ")"
   ]
  },
  {
   "cell_type": "code",
   "execution_count": null,
   "metadata": {},
   "outputs": [],
   "source": [
    "print(df_3.shape)\n",
    "df_3.head()"
   ]
  },
  {
   "attachments": {},
   "cell_type": "markdown",
   "metadata": {},
   "source": [
    "# Question 2 : Coins Correlation"
   ]
  },
  {
   "cell_type": "code",
   "execution_count": null,
   "metadata": {},
   "outputs": [],
   "source": [
    "import pandas as pd\n",
    "\n",
    "# Assume df is a DataFrame with columns 'date', 'symbol' and 'Price_Change'\n",
    "df_3['Price_Change'] = df_3['Close'] - df_3['Open']\n",
    "df_3['Direction'] = df_3['Price_Change'].apply(lambda x: 1 if x > 0 else -1 if x < 0 else 0)\n",
    "df_pivot = df_3.pivot(index='Date', columns='Symbol', values='Direction')\n",
    "\n",
    "# Count the number of days two currencies change in the same direction\n",
    "same_direction_days = df_pivot.corr().stack().rename_axis(('Symbol1', 'Symbol2')).reset_index(name='Correlation')\n",
    "same_direction_days.columns = ['Symbol1', 'Symbol2', 'Correlation']\n",
    "same_direction_days = same_direction_days[same_direction_days['Symbol1'] < same_direction_days['Symbol2']]\n",
    "same_direction_days['same_direction_days'] = same_direction_days['Correlation'] * len(df_pivot)\n",
    "same_direction_days['same_direction_days'] = same_direction_days['same_direction_days'].round().astype(int)\n",
    "same_direction_days = same_direction_days.sort_values('same_direction_days', ascending=False)\n",
    "\n",
    "# Print the top 30 pairs\n",
    "print(same_direction_days.head(30))"
   ]
  },
  {
   "cell_type": "code",
   "execution_count": null,
   "metadata": {},
   "outputs": [],
   "source": [
    "import seaborn as sns\n",
    "import matplotlib.pyplot as plt\n",
    "\n",
    "# Get the top 30 pairs\n",
    "top_30 = same_direction_days.sort_values('same_direction_days', ascending=False).head(30)\n",
    "\n",
    "# Filter the correlation matrix for the top symbols\n",
    "symbols = list(set(top_30['Symbol1'].tolist() + top_30['Symbol2'].tolist()))\n",
    "\n",
    "# Create the correlation matrix\n",
    "corr_subset = df_pivot[symbols].corr()\n",
    "\n",
    "# Create the figure and the axes\n",
    "fig, ax = plt.subplots(figsize=(12, 10))\n",
    "# Plot the heatmap with the filtered correlation matrix\n",
    "\n",
    "sns.heatmap(corr_subset, annot=False, cmap='viridis', ax=ax)\n",
    "ax.set_title('Top 30 Currency Correlation Heatmap')\n",
    "plt.show()"
   ]
  },
  {
   "attachments": {},
   "cell_type": "markdown",
   "metadata": {},
   "source": [
    "# Qestion 5 : Top 10 Coins in Red Days"
   ]
  },
  {
   "cell_type": "code",
   "execution_count": null,
   "metadata": {},
   "outputs": [],
   "source": [
    "import matplotlib.pyplot as plt\n",
    "\n",
    "# Assume df is a DataFrame with columns 'date', 'symbol' and 'Price_Change'\n",
    "df_red_days = df_3[df_3['Price_Change'] < 0]\n",
    "\n",
    "# Calculate the total volume for each symbol in the red days\n",
    "total_volume = df_red_days.groupby('Symbol')['Volume'].sum().sort_values(ascending=False)\n",
    "\n",
    "# Select the top 10 symbols\n",
    "top_10_symbols = total_volume.head(10)\n",
    "\n",
    "# Plot the bar chart\n",
    "plt.bar(top_10_symbols.index, top_10_symbols.values)\n",
    "plt.xlabel('Symbol')\n",
    "plt.ylabel('Total Volume')\n",
    "plt.title('Total Volume of Top 10 Cryptocurrencies in Red Days')\n",
    "plt.show()"
   ]
  }
 ],
 "metadata": {
  "kernelspec": {
   "display_name": "Python 3",
   "language": "python",
   "name": "python3"
  },
  "language_info": {
   "codemirror_mode": {
    "name": "ipython",
    "version": 3
   },
   "file_extension": ".py",
   "mimetype": "text/x-python",
   "name": "python",
   "nbconvert_exporter": "python",
   "pygments_lexer": "ipython3",
   "version": "3.9.12"
  }
 },
 "nbformat": 4,
 "nbformat_minor": 0
}
