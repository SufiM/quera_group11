{
 "cells": [
  {
   "cell_type": "code",
   "execution_count": 47,
   "metadata": {},
   "outputs": [],
   "source": [
    "import requests\n",
    "from bs4 import BeautifulSoup\n",
    "from requests.exceptions import HTTPError, ConnectionError, Timeout, RequestException\n",
    "import numpy as np\n",
    "import pandas as pd\n",
    "from tqdm import tqdm\n",
    "import time"
   ]
  },
  {
   "cell_type": "code",
   "execution_count": 48,
   "metadata": {},
   "outputs": [],
   "source": [
    "def check_url(url):  # Function to check currency link\n",
    "    if url == \"?\":  # When the currency doesn't have github link\n",
    "        return -1\n",
    "    if (url.count(\"/\") == 4) & (\n",
    "        url[-1] != \"/\"):  # When the currency has github repository link\n",
    "        return 1\n",
    "    if (url.count(\"/\") == 3) | (\n",
    "        (url.count(\"/\") == 4) & (url[-1] == \"/\")):  # When the currency has github project link\n",
    "        return\n",
    "    return 0  # When the currency has an other link"
   ]
  },
  {
   "cell_type": "code",
   "execution_count": 49,
   "metadata": {},
   "outputs": [],
   "source": [
    "def get_page(url): # function to send request and return parsed page\n",
    "    try:\n",
    "        page = requests.get(url)\n",
    "        soup = BeautifulSoup(page.content, \"html.parser\")\n",
    "        return soup\n",
    "    except HTTPError as http_err:\n",
    "        print(\"HTTP error occurred: {}\".format(http_err))\n",
    "    except ConnectionError as conn_err:\n",
    "        print(\"Connection error occurred: {}\".format(conn_err))\n",
    "    except Timeout as timeout_err:\n",
    "        print(\"Timeout error occurred: {}\".format(timeout_err))\n",
    "    except RequestException as req_err:\n",
    "        print(\"Request error occurred: {}\".format(req_err))\n",
    "    return None"
   ]
  },
  {
   "cell_type": "code",
   "execution_count": 50,
   "metadata": {},
   "outputs": [],
   "source": [
    "def scrape_repo(url, id):  # function to scrape repository links and return data\n",
    "    try:\n",
    "        page = get_page(url)\n",
    "        boxs = page.select(\".text-small.mr-3\")\n",
    "        languages = []\n",
    "        for box in boxs:\n",
    "            language = {}\n",
    "            elements = box.select(\"span\")\n",
    "            language[\"coin_id\"] = id\n",
    "            language[\"name\"] = elements[0].text\n",
    "            language[\"percentage\"] = float(elements[1].text[:-1])\n",
    "            languages.append(language)\n",
    "        data = {}\n",
    "        data[\"coin_id\"] = id\n",
    "        commit_element = page.select(\".ml-md-3 strong\")\n",
    "        data[\"commits_count\"] = int(\n",
    "            \"\".join(filter(str.isdigit, commit_element[0].text))\n",
    "        )\n",
    "        contrib_element = page.select(\".Link.flex-items-center\")\n",
    "        for element in contrib_element:\n",
    "            if \"Contributors\" in element.text:\n",
    "                data[\"contributors_count\"] = int(\n",
    "                    \"\".join(filter(str.isdigit, element.text))\n",
    "                )\n",
    "        fork_count = page.find(id=\"repo-network-counter\").get(\"title\")\n",
    "        data[\"forks_count\"] = int(\"\".join(filter(str.isdigit, fork_count)))\n",
    "        star_count = page.find(id=\"repo-stars-counter-star\").get(\"title\")\n",
    "        data[\"stars_count\"] = int(\"\".join(filter(str.isdigit, star_count)))\n",
    "        return [languages, data]\n",
    "    except:\n",
    "        print(\"error in scraping {}th coin.\".format(id))\n",
    "    return None"
   ]
  },
  {
   "cell_type": "code",
   "execution_count": 51,
   "metadata": {},
   "outputs": [],
   "source": [
    "# Function to scrape projects links(finding repository link of currency and scrape it)\n",
    "def scrape_prjct(url, id):\n",
    "    try:\n",
    "        page = get_page(url)\n",
    "        repo_url = \"https://github.com\" + page.select(\".col-lg-6:nth-child(1) a\")[\n",
    "            0\n",
    "        ].get(\"href\")\n",
    "        return scrape_repo(repo_url, id)\n",
    "    except:\n",
    "        print(\"error in finding {}th coin link.\".format(id))\n",
    "    return None"
   ]
  },
  {
   "cell_type": "code",
   "execution_count": 52,
   "metadata": {},
   "outputs": [],
   "source": [
    "def scrape(url, id):  # ّ Function that calls the appropriate function for each currency\n",
    "    case = check_url(url)\n",
    "    if case == -1:  # When the currency doesn't have github link\n",
    "        return None\n",
    "    if case == 1:  # When the currency has github repository link\n",
    "        return scrape_repo(url, id)\n",
    "    if (\n",
    "        case == 0\n",
    "    ):  # When the currency has another link and its project link should be separated\n",
    "        parts = url.split(\"/\")\n",
    "        url = \"/\".join(parts[:4])\n",
    "    return scrape_prjct(url, id)  # When the currency has github project link"
   ]
  },
  {
   "cell_type": "code",
   "execution_count": 55,
   "metadata": {},
   "outputs": [],
   "source": [
    "# Reading data and fix some links\n",
    "coin_data = pd.read_csv(\"coins_extras.csv\")\n",
    "coin_data.replace(pd.NA, \"?\", inplace=True)\n",
    "value_mapping = {\n",
    "    \"https://github.com/solana-labs\": \"https://github.com/solana-labs/solana\",\n",
    "    \"https://github.com/maticnetwork/whitepaper/\": \"https://github.com/maticnetwork/bor\",\n",
    "    \"https://github.com/filecoin-project/\": \"https://github.com/filecoin-project/lotus\",\n",
    "    \"https://github.com/quantnetwork/\": \"?\",\n",
    "    \"https://github.com/chainsulting/Smart-Contract-Security-Audits/tree/master/ApeCoin\": \"?\",\n",
    "    \"https://github.com/thorchain/Resources/tree/master/Whitepapers/THORChain/whitepaper-en.md\": \"https://github.com/thorchain/THORChain-v1\",\n",
    "    \"https://github.com/iotaledger\": \"https://github.com/iotaledger/wasp\",\n",
    "    \"https://github.com/curvefi/curve-contract\": \"https://github.com/curvefi/curve-stablecoin\",\n",
    "    \"https://github.com/gatechain\": \"https://github.com/gatechain/crypto\",\n",
    "    \"https://github.com/trustwallet\": \"https://github.com/trustwallet/wallet-core\",\n",
    "    \"https://github.com/dydxfoundation/\": \"?\",\n",
    "    \"https://github.com/BTCGPU/BTCGPU/wiki/Technical-Spec\": \"https://github.com/BTCGPU/BTCGPU\",\n",
    "    \"https://github.com/singnet/\": \"https://github.com/singnet/snet-daemon\",\n",
    "    \"https://github.com/balancer-labs\": \"?\",\n",
    "    \"https://github.com/kusamanetwork\": \"?\",\n",
    "    \"https://github.com/worldcoin\": \"?\",\n",
    "    \"https://github.com/Solar-network\": \"https://github.com/Solar-network/core\",\n",
    "    \"https://github.com/axelarnetwork\": \"https://github.com/axelarnetwork/axelar-core\",\n",
    "    \"https://github.com/terra-project\": \"https://github.com/terra-money/core\",\n",
    "    \"https://github.com/nervosnetwork/rfcs/blob/master/rfcs/0002-ckb/0002-ckb.md\": \"https://github.com/nervosnetwork/ckb\",\n",
    "    \"https://github.com/UMAprotocol/whitepaper\": \"?\",\n",
    "    \"https://github.com/reserve-protocol\": \"https://github.com/reserve-protocol/rsv-v2\",\n",
    "    \"https://github.com/kybernetwork\": \"?\",\n",
    "}\n",
    "coin_data[\"github_link\"] = coin_data[\"github_link\"].replace(value_mapping)"
   ]
  },
  {
   "cell_type": "code",
   "execution_count": 54,
   "metadata": {},
   "outputs": [
    {
     "name": "stderr",
     "output_type": "stream",
     "text": [
      "100%|██████████| 200/200 [08:41<00:00,  2.61s/it]\n"
     ]
    }
   ],
   "source": [
    "languages_data = []\n",
    "github_data = []\n",
    "for i in tqdm(range(0, 200)):  # Iterating over all currencies and scrape data of them\n",
    "    extra_data = scrape(coin_data[\"github_link\"][i], coin_data[\"rank\"][i])\n",
    "    if extra_data != None:\n",
    "        languages_data.extend(extra_data[0])\n",
    "        github_data.append(extra_data[1])\n",
    "    if (i + 1) % 10 == 0:\n",
    "        time.sleep(10)\n",
    "\n",
    "lang_df = pd.DataFrame(languages_data)\n",
    "git_df = pd.DataFrame(github_data)\n",
    "lang_df.to_csv(\"languages_data.csv\", index=False)\n",
    "git_df.to_csv(\"github_data.csv\", index=False)"
   ]
  }
 ],
 "metadata": {
  "kernelspec": {
   "display_name": "envr",
   "language": "python",
   "name": "python3"
  },
  "language_info": {
   "codemirror_mode": {
    "name": "ipython",
    "version": 3
   },
   "file_extension": ".py",
   "mimetype": "text/x-python",
   "name": "python",
   "nbconvert_exporter": "python",
   "pygments_lexer": "ipython3",
   "version": "3.9.13"
  },
  "orig_nbformat": 4
 },
 "nbformat": 4,
 "nbformat_minor": 2
}
